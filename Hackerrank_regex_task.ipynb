{
 "cells": [
  {
   "cell_type": "markdown",
   "metadata": {},
   "source": [
    "#  Email extraction from text file"
   ]
  },
  {
   "cell_type": "code",
   "execution_count": 14,
   "metadata": {},
   "outputs": [
    {
     "data": {
      "text/plain": [
       "['product@hackerrank.com',\n",
       " 'hackers@hackerrank.com',\n",
       " 'interviewstreet@hackerrank.com']"
      ]
     },
     "execution_count": 14,
     "metadata": {},
     "output_type": "execute_result"
    }
   ],
   "source": [
    "import re\n",
    "\n",
    "txt = open(\"text.txt\", \"r\")\n",
    "file = txt.read()\n",
    "match = re.findall(r'[\\w\\.-]+@[\\w\\.-]+', file)\n",
    "match"
   ]
  },
  {
   "cell_type": "markdown",
   "metadata": {},
   "source": [
    "# PAN card validation "
   ]
  },
  {
   "cell_type": "code",
   "execution_count": 23,
   "metadata": {},
   "outputs": [
    {
     "name": "stdout",
     "output_type": "stream",
     "text": [
      "Enter the pan_no: Asdfgt6347k\n",
      "NO\n"
     ]
    }
   ],
   "source": [
    "import re \n",
    "\n",
    "def pan_validation(pan_no):\n",
    "    regex = \"[A-Z]{5}[0-9]{4}[A-Z]{1}\"\n",
    "    # Compile the ReGex\n",
    "    p = re.compile(regex)\n",
    "    if (pan_no==None):\n",
    "        print(\"Please enter the pan card number\")\n",
    "    if re.search(p, pan_no) and len(pan_no)==10:\n",
    "        print(\"YES\")\n",
    "    else:\n",
    "        print(\"NO\")\n",
    "\n",
    "pan_no = input(\"Enter the pan_no: \",)\n",
    "pan_validation(pan_no)"
   ]
  },
  {
   "cell_type": "markdown",
   "metadata": {},
   "source": [
    "# Html Tags extraction"
   ]
  },
  {
   "cell_type": "code",
   "execution_count": 27,
   "metadata": {},
   "outputs": [
    {
     "name": "stdout",
     "output_type": "stream",
     "text": [
      "<p>\n",
      "<a href=\"http://www.quackit.com/html/tutorial/html_links.cfm\">\n",
      "</a>\n",
      "</p>\n",
      "<div class=\"more-info\">\n",
      "<a href=\"http://www.quackit.com/html/examples/html_links_examples.cfm\">\n",
      "</a>\n",
      "</div>\n"
     ]
    }
   ],
   "source": [
    "import re\n",
    "\n",
    "inputfile = '''<p><a href=\"http://www.quackit.com/html/tutorial/html_links.cfm\">Example Link</a></p>\n",
    "<div class=\"more-info\"><a href=\"http://www.quackit.com/html/examples/html_links_examples.cfm\">More Link Examples...</a>\n",
    "</div>'''\n",
    "\n",
    "tags = re.findall(r'<[^>]+>', inputfile)\n",
    "for a in tags:\n",
    "    b = re.sub(r'\\s?\\w+=\\\"[\\w\\d]+\\\"', '', a)\n",
    "    print(b)"
   ]
  },
  {
   "cell_type": "code",
   "execution_count": 35,
   "metadata": {},
   "outputs": [
    {
     "data": {
      "text/plain": [
       "['p', 'a', 'div', 'a']"
      ]
     },
     "execution_count": 35,
     "metadata": {},
     "output_type": "execute_result"
    }
   ],
   "source": [
    "import re\n",
    "\n",
    "inputfile = '''<p><a href=\"http://www.quackit.com/html/tutorial/html_links.cfm\">Example Link</a></p>\n",
    "<div class=\"more-info\"><a href=\"http://www.quackit.com/html/examples/html_links_examples.cfm\">More Link Examples...</a>\n",
    "</div>'''\n",
    "\n",
    "tags = re.findall('(?<=<)\\\\w+', inputfile)\n",
    "tags"
   ]
  },
  {
   "cell_type": "code",
   "execution_count": 44,
   "metadata": {},
   "outputs": [
    {
     "data": {
      "text/plain": [
       "['p', 'a', 'div', 'a']"
      ]
     },
     "execution_count": 44,
     "metadata": {},
     "output_type": "execute_result"
    }
   ],
   "source": [
    "import re\n",
    "\n",
    "inputfile = '''<p><a href=\"http://www.quackit.com/html/tutorial/html_links.cfm\">Example Link</a></p>\n",
    "<div class=\"more-info\"><a href=\"http://www.quackit.com/html/examples/html_links_examples.cfm\">More Link Examples...</a>\n",
    "</div>'''\n",
    "\n",
    "tags = re.findall('(?<=<)\\w+', inputfile)\n",
    "tags"
   ]
  },
  {
   "cell_type": "code",
   "execution_count": 29,
   "metadata": {},
   "outputs": [
    {
     "name": "stdout",
     "output_type": "stream",
     "text": [
      "<li style=\"-moz-float-edge: content-box\">\n",
      "<a href=\"/wiki/Orval_Overall\" title=\"Orval Overall\">\n",
      "</a>\n",
      "<i>\n",
      "</i>\n",
      "<b>\n",
      "<a\n",
      "href=\"/wiki/List_of_Major_League_Baseball_pitchers_who_have_struck_out_four_batters_in_one_inning\" title=\"List of Major League\n",
      "Baseball pitchers who have struck out four batters in one inning\">\n",
      "</a>\n",
      "</b>\n",
      "<a href=\"/wiki/World_Series\" title=\"World Series\">\n",
      "</a>\n",
      "</li>\n",
      "<li style=\"-moz-float-edge: content-box\">\n",
      "<b>\n",
      "<a href=\"/wiki/West_Triangle_Economic_Zone\"\n",
      "title=\"West Triangle Economic Zone\">\n",
      "</a>\n",
      "</b>\n",
      "</li>\n",
      "<li style=\"-moz-float-edge: content-box\">\n",
      "<i>\n",
      "<a href=\"/wiki/Kismet_(1943_film)\" title=\"Kismet (1943 film)\">\n",
      "</a>\n",
      "</i>\n",
      "<b>\n",
      "<a href=\"/wiki/Gyan_Mukherjee\" title=\"Gyan Mukherjee\">\n",
      "</a>\n",
      "</b>\n",
      "<a\n",
      "href=\"/wiki/Roxy_Cinema_(Kolkata)\" title=\"Roxy Cinema (Kolkata)\">\n",
      "</a>\n",
      "</li>\n",
      "<li style=\"-moz-float-edge: content-box\">\n",
      "<a href=\"/wiki/Vauix_Carter\" title=\"Vauix Carter\">\n",
      "</a>\n",
      "<b>\n",
      "<a href=\"/wiki/1882_Navy_Midshipmen_football_team\" title=\"1882 Navy Midshipmen football\n",
      "team\">\n",
      "</a>\n",
      "</b>\n",
      "</li>\n",
      "<li style=\"-moz-float-edge: content-box\">\n",
      "<a href=\"/wiki/Zhu_Chenhao\" title=\"Zhu Chenhao\">\n",
      "</a>\n",
      "<a href=\"/wiki/Slow_slicing\" title=\"Slow slicing\">\n",
      "</a>\n",
      "<b>\n",
      "<a\n",
      "href=\"/wiki/Prince_of_Ning_rebellion\" title=\"Prince of Ning rebellion\">\n",
      "</a>\n",
      "</b>\n",
      "<a\n",
      "href=\"/wiki/Ming_Dynasty\" title=\"Ming Dynasty\">\n",
      "</a>\n",
      "<a href=\"/wiki/Zhengde_Emperor\" title=\"Zhengde\n",
      "Emperor\">\n",
      "</a>\n",
      "</li>\n",
      "<li style=\"-moz-float-edge: content-box\">\n",
      "<b>\n",
      "<a href=\"/wiki/Mirza_Adeeb\" title=\"Mirza Adeeb\">\n",
      "</a>\n",
      "</b>\n",
      "<a href=\"/wiki/Urdu\">\n",
      "</a>\n",
      "</li>\n",
      "<li style=\"-moz-float-edge: content-box\">\n",
      "<i>\n",
      "<b>\n",
      "<a\n",
      "href=\"/wiki/La%C3%9Ft_uns_sorgen,_la%C3%9Ft_uns_wachen,_BWV_213\" title=\"Lat uns sorgen, lat uns wachen, BWV 213\">\n",
      "</a>\n",
      "</b>\n",
      "</i>\n",
      "<br style=\"clear:both;\" />\n",
      "<div style=\"text-align: right;\">\n",
      "<b>\n",
      "<a href=\"/wiki/Wikipedia:Recent_additions\" title=\"Wikipedia:Recent\n",
      "additions\">\n",
      "</a>\n",
      "</b>\n",
      "<b>\n",
      "<a href=\"/wiki/Wikipedia:Your_first_article\" title=\"Wikipedia:Your first article\">\n",
      "</a>\n",
      "</b>\n",
      "<b>\n",
      "<a href=\"/wiki/Template_talk:Did_you_know\" title=\"Template talk:Did you know\">\n",
      "</a>\n",
      "</b>\n",
      "</div>\n",
      "</li>\n"
     ]
    }
   ],
   "source": [
    "import re\n",
    "html = '''<li style=\"-moz-float-edge: content-box\">... that <a href=\"/wiki/Orval_Overall\" title=\"Orval Overall\">Orval Overall</a> <i>\n",
    "(pictured)</i> is the only <b><a\n",
    "href=\"/wiki/List_of_Major_League_Baseball_pitchers_who_have_struck_out_four_batters_in_one_inning\" title=\"List of Major League\n",
    "Baseball pitchers who have struck out four batters in one inning\">Major League Baseball player to strike out four batters in one\n",
    "inning</a></b> in the <a href=\"/wiki/World_Series\" title=\"World Series\">World Series</a>?</li>\n",
    "<li style=\"-moz-float-edge: content-box\">... that the three cities of the <b><a href=\"/wiki/West_Triangle_Economic_Zone\"\n",
    "title=\"West Triangle Economic Zone\">West Triangle Economic Zone</a></b> contribute 40% of Western China's GDP?</li>\n",
    "<li style=\"-moz-float-edge: content-box\">... that <i><a href=\"/wiki/Kismet_(1943_film)\" title=\"Kismet (1943 film)\">Kismet</a>\n",
    "</i>, directed by <b><a href=\"/wiki/Gyan_Mukherjee\" title=\"Gyan Mukherjee\">Gyan Mukherjee</a></b>, ran at the <a\n",
    "href=\"/wiki/Roxy_Cinema_(Kolkata)\" title=\"Roxy Cinema (Kolkata)\">Roxy, Kolkata</a>, for 3 years and 8 months?</li>\n",
    "<li style=\"-moz-float-edge: content-box\">... that <a href=\"/wiki/Vauix_Carter\" title=\"Vauix Carter\">Vauix Carter</a> both\n",
    "coached and played for the <b><a href=\"/wiki/1882_Navy_Midshipmen_football_team\" title=\"1882 Navy Midshipmen football\n",
    "team\">1882 Navy Midshipmen football team</a></b>?</li>\n",
    "<li style=\"-moz-float-edge: content-box\">... that <a href=\"/wiki/Zhu_Chenhao\" title=\"Zhu Chenhao\">Zhu Chenhao</a> was\n",
    "sentenced to <a href=\"/wiki/Slow_slicing\" title=\"Slow slicing\">slow slicing</a> for leading the <b><a\n",
    "href=\"/wiki/Prince_of_Ning_rebellion\" title=\"Prince of Ning rebellion\">Prince of Ning rebellion</a></b> against the <a\n",
    "href=\"/wiki/Ming_Dynasty\" title=\"Ming Dynasty\">Ming Dynasty</a> <a href=\"/wiki/Zhengde_Emperor\" title=\"Zhengde\n",
    "Emperor\">emperor Zhengde</a>?</li>\n",
    "<li style=\"-moz-float-edge: content-box\">... that <b><a href=\"/wiki/Mirza_Adeeb\" title=\"Mirza Adeeb\">Mirza Adeeb</a></b>\n",
    "was a prominent modern Pakistani <a href=\"/wiki/Urdu\" title=\"Urdu\">Urdu</a> playwright whose later work focuses on social\n",
    "problems and daily life?</li>\n",
    "<li style=\"-moz-float-edge: content-box\">... that in <i><b><a\n",
    "href=\"/wiki/La%C3%9Ft_uns_sorgen,_la%C3%9Ft_uns_wachen,_BWV_213\" title=\"Lat uns sorgen, lat uns wachen, BWV 213\">Die Wahl des Herkules</a></b></i>, Hercules must choose between the good cop and the bad cop?<br style=\"clear:both;\" />\n",
    "<div style=\"text-align: right;\" class=\"noprint\"><b><a href=\"/wiki/Wikipedia:Recent_additions\" title=\"Wikipedia:Recent\n",
    "additions\">Archive</a></b> <b><a href=\"/wiki/Wikipedia:Your_first_article\" title=\"Wikipedia:Your first article\">Start a new\n",
    "article</a></b> <b><a href=\"/wiki/Template_talk:Did_you_know\" title=\"Template talk:Did you know\">Nominate an article</a>\n",
    "</b></div>\n",
    "</li>'''\n",
    "\n",
    "tags = re.findall(r'<[^>]+>',html)\n",
    "for a in tags:\n",
    "    b = re.sub(r'\\s?\\w+=\\\"[\\w\\d]+\\\"', '', a)\n",
    "    print(b)"
   ]
  },
  {
   "cell_type": "markdown",
   "metadata": {},
   "source": [
    "'?=' Matches if ... matches next, but doesn’t consume any of the string. "
   ]
  },
  {
   "cell_type": "code",
   "execution_count": 33,
   "metadata": {},
   "outputs": [
    {
     "data": {
      "text/plain": [
       "['li',\n",
       " 'a',\n",
       " 'i',\n",
       " 'b',\n",
       " 'a',\n",
       " 'a',\n",
       " 'li',\n",
       " 'b',\n",
       " 'a',\n",
       " 'li',\n",
       " 'i',\n",
       " 'a',\n",
       " 'b',\n",
       " 'a',\n",
       " 'a',\n",
       " 'li',\n",
       " 'a',\n",
       " 'b',\n",
       " 'a',\n",
       " 'li',\n",
       " 'a',\n",
       " 'a',\n",
       " 'b',\n",
       " 'a',\n",
       " 'a',\n",
       " 'a',\n",
       " 'li',\n",
       " 'b',\n",
       " 'a',\n",
       " 'a',\n",
       " 'li',\n",
       " 'i',\n",
       " 'b',\n",
       " 'a',\n",
       " 'br',\n",
       " 'div',\n",
       " 'b',\n",
       " 'a',\n",
       " 'b',\n",
       " 'a',\n",
       " 'b',\n",
       " 'a']"
      ]
     },
     "execution_count": 33,
     "metadata": {},
     "output_type": "execute_result"
    }
   ],
   "source": [
    "import re\n",
    "html = '''<li style=\"-moz-float-edge: content-box\">... that <a href=\"/wiki/Orval_Overall\" title=\"Orval Overall\">Orval Overall</a> <i>\n",
    "(pictured)</i> is the only <b><a\n",
    "href=\"/wiki/List_of_Major_League_Baseball_pitchers_who_have_struck_out_four_batters_in_one_inning\" title=\"List of Major League\n",
    "Baseball pitchers who have struck out four batters in one inning\">Major League Baseball player to strike out four batters in one\n",
    "inning</a></b> in the <a href=\"/wiki/World_Series\" title=\"World Series\">World Series</a>?</li>\n",
    "<li style=\"-moz-float-edge: content-box\">... that the three cities of the <b><a href=\"/wiki/West_Triangle_Economic_Zone\"\n",
    "title=\"West Triangle Economic Zone\">West Triangle Economic Zone</a></b> contribute 40% of Western China's GDP?</li>\n",
    "<li style=\"-moz-float-edge: content-box\">... that <i><a href=\"/wiki/Kismet_(1943_film)\" title=\"Kismet (1943 film)\">Kismet</a>\n",
    "</i>, directed by <b><a href=\"/wiki/Gyan_Mukherjee\" title=\"Gyan Mukherjee\">Gyan Mukherjee</a></b>, ran at the <a\n",
    "href=\"/wiki/Roxy_Cinema_(Kolkata)\" title=\"Roxy Cinema (Kolkata)\">Roxy, Kolkata</a>, for 3 years and 8 months?</li>\n",
    "<li style=\"-moz-float-edge: content-box\">... that <a href=\"/wiki/Vauix_Carter\" title=\"Vauix Carter\">Vauix Carter</a> both\n",
    "coached and played for the <b><a href=\"/wiki/1882_Navy_Midshipmen_football_team\" title=\"1882 Navy Midshipmen football\n",
    "team\">1882 Navy Midshipmen football team</a></b>?</li>\n",
    "<li style=\"-moz-float-edge: content-box\">... that <a href=\"/wiki/Zhu_Chenhao\" title=\"Zhu Chenhao\">Zhu Chenhao</a> was\n",
    "sentenced to <a href=\"/wiki/Slow_slicing\" title=\"Slow slicing\">slow slicing</a> for leading the <b><a\n",
    "href=\"/wiki/Prince_of_Ning_rebellion\" title=\"Prince of Ning rebellion\">Prince of Ning rebellion</a></b> against the <a\n",
    "href=\"/wiki/Ming_Dynasty\" title=\"Ming Dynasty\">Ming Dynasty</a> <a href=\"/wiki/Zhengde_Emperor\" title=\"Zhengde\n",
    "Emperor\">emperor Zhengde</a>?</li>\n",
    "<li style=\"-moz-float-edge: content-box\">... that <b><a href=\"/wiki/Mirza_Adeeb\" title=\"Mirza Adeeb\">Mirza Adeeb</a></b>\n",
    "was a prominent modern Pakistani <a href=\"/wiki/Urdu\" title=\"Urdu\">Urdu</a> playwright whose later work focuses on social\n",
    "problems and daily life?</li>\n",
    "<li style=\"-moz-float-edge: content-box\">... that in <i><b><a\n",
    "href=\"/wiki/La%C3%9Ft_uns_sorgen,_la%C3%9Ft_uns_wachen,_BWV_213\" title=\"Lat uns sorgen, lat uns wachen, BWV 213\">Die Wahl des Herkules</a></b></i>, Hercules must choose between the good cop and the bad cop?<br style=\"clear:both;\" />\n",
    "<div style=\"text-align: right;\" class=\"noprint\"><b><a href=\"/wiki/Wikipedia:Recent_additions\" title=\"Wikipedia:Recent\n",
    "additions\">Archive</a></b> <b><a href=\"/wiki/Wikipedia:Your_first_article\" title=\"Wikipedia:Your first article\">Start a new\n",
    "article</a></b> <b><a href=\"/wiki/Template_talk:Did_you_know\" title=\"Template talk:Did you know\">Nominate an article</a>\n",
    "</b></div>\n",
    "</li>'''\n",
    "\n",
    "\n",
    "clean = re.findall('(?<=<)\\\\w+', html)\n",
    "\n",
    "clean"
   ]
  },
  {
   "cell_type": "code",
   "execution_count": null,
   "metadata": {},
   "outputs": [],
   "source": []
  }
 ],
 "metadata": {
  "kernelspec": {
   "display_name": "Python 3",
   "language": "python",
   "name": "python3"
  },
  "language_info": {
   "codemirror_mode": {
    "name": "ipython",
    "version": 3
   },
   "file_extension": ".py",
   "mimetype": "text/x-python",
   "name": "python",
   "nbconvert_exporter": "python",
   "pygments_lexer": "ipython3",
   "version": "3.6.9"
  }
 },
 "nbformat": 4,
 "nbformat_minor": 4
}
