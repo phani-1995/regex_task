{
 "cells": [
  {
   "cell_type": "markdown",
   "metadata": {},
   "source": [
    "# Meta Characters "
   ]
  },
  {
   "cell_type": "code",
   "execution_count": 2,
   "metadata": {},
   "outputs": [
    {
     "name": "stdout",
     "output_type": "stream",
     "text": [
      "['i', 'd', 'a', 'l', 'l', 'l', 'e', 'c', 'a', 'e', 'c', 'h', 'a', 'a', 'c', 'e', 'a', 'l', 'h', 'a', 'b', 'e', 'i', 'c', 'a', 'l', 'l', 'b', 'e', 'e', 'e']\n"
     ]
    }
   ],
   "source": [
    "##[] will find all lower case characters alphabetically between \"a\" and \"m\":\n",
    "\n",
    "import re\n",
    "txt = \"Find all lower case characters alphabetically between\"\n",
    "x =re.findall(\"[a-m]\", txt)\n",
    "print(x)\n"
   ]
  },
  {
   "cell_type": "code",
   "execution_count": 5,
   "metadata": {},
   "outputs": [
    {
     "data": {
      "text/plain": [
       "['2', '9']"
      ]
     },
     "execution_count": 5,
     "metadata": {},
     "output_type": "execute_result"
    }
   ],
   "source": [
    "#/d will find all digit characters\n",
    "txt = \"The cost of xyz in 29 rupees\"\n",
    "x = re.findall(\"\\d\",txt)\n",
    "x"
   ]
  },
  {
   "cell_type": "code",
   "execution_count": 7,
   "metadata": {},
   "outputs": [
    {
     "data": {
      "text/plain": [
       "['sequence']"
      ]
     },
     "execution_count": 7,
     "metadata": {},
     "output_type": "execute_result"
    }
   ],
   "source": [
    "#Search for a sequence that starts with \"s\", followed by two (any) characters:\n",
    "#'.' will display Any character (except newline character)\n",
    "\n",
    "txt = \"Search for a sequence that starts with s, followed by two (any) characters\"\n",
    "y = re.findall(\"s.....ce\", txt)\n",
    "y"
   ]
  },
  {
   "cell_type": "code",
   "execution_count": 10,
   "metadata": {},
   "outputs": [
    {
     "name": "stdout",
     "output_type": "stream",
     "text": [
      "False\n"
     ]
    }
   ],
   "source": [
    "# '^' checks the string starts with the given letter\n",
    "txt = \"checks the string starts with the given letter\"\n",
    "y = re.findall(\"^string\", txt)\n",
    "if y:\n",
    "    print(True)\n",
    "else:\n",
    "    print(False)"
   ]
  },
  {
   "cell_type": "code",
   "execution_count": 12,
   "metadata": {},
   "outputs": [
    {
     "name": "stdout",
     "output_type": "stream",
     "text": [
      "True\n"
     ]
    }
   ],
   "source": [
    "#Check if the string ends with given word\n",
    "# '$' will check wheather the sentence ends with that word\n",
    "\n",
    "txt = \"Check if the string ends with given word\"\n",
    "y = re.findall(\"word$\", txt)\n",
    "if y:\n",
    "    print(True)\n",
    "else:\n",
    "    print(False)"
   ]
  },
  {
   "cell_type": "code",
   "execution_count": 13,
   "metadata": {},
   "outputs": [
    {
     "name": "stdout",
     "output_type": "stream",
     "text": [
      "['ai', 'ai', 'ai', 'ai']\n"
     ]
    }
   ],
   "source": [
    "#'*' Check if the string contains \"ai\" followed by 0 or more characters\n",
    "\n",
    "txt = \"he rain in Spain falls mainly in the plain!\"\n",
    "try:\n",
    "    y=re.findall(\"aix*\", txt)\n",
    "    print(y)\n",
    "except:\n",
    "    print(\"syntax error\")"
   ]
  },
  {
   "cell_type": "code",
   "execution_count": 14,
   "metadata": {},
   "outputs": [
    {
     "data": {
      "text/plain": [
       "[]"
      ]
     },
     "execution_count": 14,
     "metadata": {},
     "output_type": "execute_result"
    }
   ],
   "source": [
    "# '+' checks if the string contains \"ai\" followed by 1 or more \"x\" characters\n",
    "\n",
    "txt = \"he rain in Spain falls mainly in the plain!\"\n",
    "\n",
    "y=re.findall(\"aix+\", txt)\n",
    "y"
   ]
  },
  {
   "cell_type": "code",
   "execution_count": 17,
   "metadata": {},
   "outputs": [
    {
     "data": {
      "text/plain": [
       "['all']"
      ]
     },
     "execution_count": 17,
     "metadata": {},
     "output_type": "execute_result"
    }
   ],
   "source": [
    "#Check if the string contains \"a\" followed by exactly two \"l\" characters\n",
    "#{} checks the specific num of characters\n",
    "\n",
    "txt=\"he rain in Spain falls mainly in the plain!\"\n",
    "\n",
    "y = re.findall(\"al{2}\", txt)\n",
    "y"
   ]
  },
  {
   "cell_type": "code",
   "execution_count": 20,
   "metadata": {},
   "outputs": [
    {
     "data": {
      "text/plain": [
       "['falls', 'stays']"
      ]
     },
     "execution_count": 20,
     "metadata": {},
     "output_type": "execute_result"
    }
   ],
   "source": [
    "# '|' Checks if the string contains either \"falls\" or \"stays\"\n",
    "\n",
    "txt = \"falls or stays\"\n",
    "y = re.findall(\"stays|falls\", txt)\n",
    "y"
   ]
  },
  {
   "cell_type": "markdown",
   "metadata": {},
   "source": [
    "# Special Sequences\n",
    "A special sequence is a \\ followed by one of the characters in the list below, and has a special meaning"
   ]
  },
  {
   "cell_type": "code",
   "execution_count": 25,
   "metadata": {},
   "outputs": [
    {
     "name": "stdout",
     "output_type": "stream",
     "text": [
      "False\n"
     ]
    }
   ],
   "source": [
    "# '/A' Check if the string starts with given letter\n",
    "\n",
    "txt = \"A special sequence is a \\ followed by one of the characters in the list below, and has a special meaning\"\n",
    "\n",
    "y = re.findall(\"\\A special\", txt)\n",
    "if y:\n",
    "    print(True)\n",
    "else:\n",
    "    print(False)\n",
    "    "
   ]
  },
  {
   "cell_type": "code",
   "execution_count": 33,
   "metadata": {},
   "outputs": [
    {
     "data": {
      "text/plain": [
       "['tch']"
      ]
     },
     "execution_count": 33,
     "metadata": {},
     "output_type": "execute_result"
    }
   ],
   "source": [
    "#'\\b 'Returns a match where the specified characters are at the beginning or at the end of a word\n",
    "#(the \"r\" in the beginning is making sure that the string is being treated as a \"raw string\")\n",
    "\n",
    "txt = \"Returns a match where the specified characters are at the beginning or at the end of a word\"\n",
    "\n",
    "# '\\b' checks wheather mat is at beginning of the word\n",
    "y = re.findall(r\"\\bmat\", txt)\n",
    "y\n",
    "# '\\b' checks wheather the tch is at end of the word\n",
    "\n",
    "z = re.findall(r\"tch\\b\",  txt)\n",
    "z\n"
   ]
  },
  {
   "cell_type": "code",
   "execution_count": 32,
   "metadata": {},
   "outputs": [
    {
     "data": {
      "text/plain": [
       "[]"
      ]
     },
     "execution_count": 32,
     "metadata": {},
     "output_type": "execute_result"
    }
   ],
   "source": [
    "# '\\B' Returns a match where the specified characters are present, but NOT at the beginning (or at the end) of a word\n",
    "#(the \"r\" in the beginning is making sure that the string is being treated as a \"raw string\")\n",
    "\n",
    "txt = \"Returns a match where the specified characters are present, but NOT at the beginning\"\n",
    "\n",
    "y = re.findall(r\"tch\\B\", txt)\n",
    "y"
   ]
  },
  {
   "cell_type": "code",
   "execution_count": 37,
   "metadata": {},
   "outputs": [
    {
     "data": {
      "text/plain": [
       "['0', '9']"
      ]
     },
     "execution_count": 37,
     "metadata": {},
     "output_type": "execute_result"
    }
   ],
   "source": [
    "# '\\d' Checks if the string contains any digits (numbers from 0-9)\n",
    "txt = \"Check if the string contains any digits (numbers from 0,9)\"\n",
    "y= re.findall(\"\\d\", txt)\n",
    "y"
   ]
  },
  {
   "cell_type": "code",
   "execution_count": 41,
   "metadata": {},
   "outputs": [
    {
     "data": {
      "text/plain": [
       "['r', 'e', 't', 'u', 'r', 'n', 's', ' ', 'a', ' ', 'm', 'a', 't', 'c', 'h']"
      ]
     },
     "execution_count": 41,
     "metadata": {},
     "output_type": "execute_result"
    }
   ],
   "source": [
    "# '\\D' returns a match where the string DOES NOT contain digits\n",
    "txt = \"returns a match\"\n",
    "y = re.findall(\"\\D\", txt)\n",
    "y"
   ]
  },
  {
   "cell_type": "code",
   "execution_count": null,
   "metadata": {},
   "outputs": [],
   "source": []
  }
 ],
 "metadata": {
  "kernelspec": {
   "display_name": "Python 3",
   "language": "python",
   "name": "python3"
  },
  "language_info": {
   "codemirror_mode": {
    "name": "ipython",
    "version": 3
   },
   "file_extension": ".py",
   "mimetype": "text/x-python",
   "name": "python",
   "nbconvert_exporter": "python",
   "pygments_lexer": "ipython3",
   "version": "3.6.9"
  }
 },
 "nbformat": 4,
 "nbformat_minor": 4
}
